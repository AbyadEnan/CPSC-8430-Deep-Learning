{
 "cells": [
  {
   "cell_type": "code",
   "execution_count": 2,
   "id": "5100c6a3",
   "metadata": {},
   "outputs": [],
   "source": [
    "import numpy as np\n",
    "import torch\n",
    "import torchvision\n",
    "import torchvision.transforms as transforms\n",
    "from torchvision.datasets import MNIST\n",
    "import torch.nn as nn\n",
    "import torch.nn.functional as F\n",
    "import torch.optim as optim\n",
    "import matplotlib.pyplot as plt"
   ]
  },
  {
   "cell_type": "code",
   "execution_count": 3,
   "id": "3177b86c",
   "metadata": {},
   "outputs": [
    {
     "name": "stderr",
     "output_type": "stream",
     "text": [
      "0.1%"
     ]
    },
    {
     "name": "stdout",
     "output_type": "stream",
     "text": [
      "Downloading http://yann.lecun.com/exdb/mnist/train-images-idx3-ubyte.gz\n",
      "Downloading http://yann.lecun.com/exdb/mnist/train-images-idx3-ubyte.gz to data/MNIST\\raw\\train-images-idx3-ubyte.gz\n"
     ]
    },
    {
     "name": "stderr",
     "output_type": "stream",
     "text": [
      "31.0%IOPub message rate exceeded.\n",
      "The notebook server will temporarily stop sending output\n",
      "to the client in order to avoid crashing it.\n",
      "To change this limit, set the config variable\n",
      "`--NotebookApp.iopub_msg_rate_limit`.\n",
      "\n",
      "Current values:\n",
      "NotebookApp.iopub_msg_rate_limit=1000.0 (msgs/sec)\n",
      "NotebookApp.rate_limit_window=3.0 (secs)\n",
      "\n",
      "100.0%\n"
     ]
    },
    {
     "name": "stdout",
     "output_type": "stream",
     "text": [
      "Extracting data/MNIST\\raw\\train-images-idx3-ubyte.gz to data/MNIST\\raw\n"
     ]
    },
    {
     "name": "stderr",
     "output_type": "stream",
     "text": [
      "102.8%"
     ]
    },
    {
     "name": "stdout",
     "output_type": "stream",
     "text": [
      "\n",
      "Downloading http://yann.lecun.com/exdb/mnist/train-labels-idx1-ubyte.gz\n",
      "Downloading http://yann.lecun.com/exdb/mnist/train-labels-idx1-ubyte.gz to data/MNIST\\raw\\train-labels-idx1-ubyte.gz\n",
      "Extracting data/MNIST\\raw\\train-labels-idx1-ubyte.gz to data/MNIST\\raw\n",
      "\n",
      "Downloading http://yann.lecun.com/exdb/mnist/t10k-images-idx3-ubyte.gz\n",
      "Downloading http://yann.lecun.com/exdb/mnist/t10k-images-idx3-ubyte.gz to data/MNIST\\raw\\t10k-images-idx3-ubyte.gz\n"
     ]
    },
    {
     "name": "stderr",
     "output_type": "stream",
     "text": [
      "\n",
      "61.2%IOPub message rate exceeded.\n",
      "The notebook server will temporarily stop sending output\n",
      "to the client in order to avoid crashing it.\n",
      "To change this limit, set the config variable\n",
      "`--NotebookApp.iopub_msg_rate_limit`.\n",
      "\n",
      "Current values:\n",
      "NotebookApp.iopub_msg_rate_limit=1000.0 (msgs/sec)\n",
      "NotebookApp.rate_limit_window=3.0 (secs)\n",
      "\n"
     ]
    }
   ],
   "source": [
    "# Downloading data set in the \"data\" directory\n",
    "dataset = MNIST(root='data/', download=True)"
   ]
  },
  {
   "cell_type": "code",
   "execution_count": 4,
   "id": "999d37bf",
   "metadata": {},
   "outputs": [
    {
     "data": {
      "text/plain": [
       "(60000, 10000)"
      ]
     },
     "execution_count": 4,
     "metadata": {},
     "output_type": "execute_result"
    }
   ],
   "source": [
    "#Seeing the number of data in the data set\n",
    "train_dataset = MNIST(root='data/', train=True)\n",
    "test_dataset = MNIST(root='data/', train=False)\n",
    "len(train_dataset),len(test_dataset)"
   ]
  },
  {
   "cell_type": "code",
   "execution_count": 7,
   "id": "5eef4ab8",
   "metadata": {},
   "outputs": [
    {
     "name": "stdout",
     "output_type": "stream",
     "text": [
      "Label of 1000th data: 0\n"
     ]
    },
    {
     "data": {
      "image/png": "[encoded data removed]",
      "text/plain": [
       "<Figure size 432x288 with 1 Axes>"
      ]
     },
     "metadata": {
      "needs_background": "light"
     },
     "output_type": "display_data"
    }
   ],
   "source": [
    "#Visualizing a data\n",
    "\n",
    "%matplotlib inline\n",
    "\n",
    "image, label = dataset[1000]\n",
    "plt.imshow(image, cmap='gray')\n",
    "print('Label of 1000th data:', label)"
   ]
  },
  {
   "cell_type": "code",
   "execution_count": 8,
   "id": "3b19a58d",
   "metadata": {},
   "outputs": [],
   "source": [
    "# Converting to Tensor\n",
    "dataset = MNIST(root='data/', train=True, transform=transforms.ToTensor())"
   ]
  },
  {
   "cell_type": "code",
   "execution_count": 9,
   "id": "233e6f56",
   "metadata": {},
   "outputs": [
    {
     "name": "stdout",
     "output_type": "stream",
     "text": [
      "torch.Size([1, 28, 28]) 0\n"
     ]
    }
   ],
   "source": [
    "# Verifying the conversion to a Tensor\n",
    "image_tensor, label = dataset[1000]\n",
    "print(image_tensor.shape, label)"
   ]
  },
  {
   "cell_type": "code",
   "execution_count": 10,
   "id": "28e3f24e",
   "metadata": {},
   "outputs": [
    {
     "data": {
      "text/plain": [
       "(50000, 10000)"
      ]
     },
     "execution_count": 10,
     "metadata": {},
     "output_type": "execute_result"
    }
   ],
   "source": [
    "#Dividing the training set into Training and Validation sets\n",
    "from torch.utils.data import random_split\n",
    "\n",
    "train_data, validation_data = random_split(dataset, [50000, 10000])\n",
    "len(train_data), len(validation_data)"
   ]
  },
  {
   "cell_type": "code",
   "execution_count": 11,
   "id": "372b9af2",
   "metadata": {},
   "outputs": [],
   "source": [
    "#creating a shufling process for traning process only\n",
    "\n",
    "from torch.utils.data import DataLoader\n",
    "\n",
    "batch_size = 128\n",
    "\n",
    "train_loader = DataLoader(train_data, batch_size, shuffle=True)\n",
    "validation_loader = DataLoader(validation_data, batch_size)"
   ]
  },
  {
   "cell_type": "code",
   "execution_count": 22,
   "id": "df03497f",
   "metadata": {},
   "outputs": [],
   "source": [
    "def Mykernel(image, kernel):\n",
    "    Rowi, Columni = image.shape       # image dimensions\n",
    "    Rowk, Columnk = kernel.shape      # kernel dimensions\n",
    "    Rowo, Columno = Rowi-Rowk+1, Columni-Columnk+1  # output dimensions\n",
    "    output = torch.zeros([Rowo, Columno])\n",
    "    for i in range(Rowo): \n",
    "        for j in range(Columno):\n",
    "            output[i,j] = torch.sum(image[i:i+Rowk,j:j+Columnk] * kernel)\n",
    "    return output"
   ]
  },
  {
   "cell_type": "code",
   "execution_count": 25,
   "id": "01981794",
   "metadata": {},
   "outputs": [],
   "source": [
    "class Classification(nn.Module):\n",
    "    def training_function(self, batch):\n",
    "        images, labels = batch \n",
    "        out = self(images)                  \n",
    "        loss = F.cross_entropy(out, labels) \n",
    "        return loss\n",
    "    \n",
    "    def validation_step(self, batch):\n",
    "        images, labels = batch \n",
    "        out = self(images)                    \n",
    "        loss = F.cross_entropy(out, labels)   \n",
    "        acc = accuracy(out, labels)           \n",
    "        return {'val_loss': loss.detach(), 'val_acc': acc}\n",
    "        \n",
    "    def validation_epoch_end(self, outputs):\n",
    "        batch_losses = [x['val_loss'] for x in outputs]\n",
    "        epoch_loss = torch.stack(batch_losses).mean()   # Combine losses\n",
    "        batch_accs = [x['val_acc'] for x in outputs]\n",
    "        epoch_acc = torch.stack(batch_accs).mean()      # Combine accuracies\n",
    "        return {'val_loss': epoch_loss.item(), 'val_acc': epoch_acc.item()}\n",
    "    \n",
    "    def epoch_end(self, epoch, result):\n",
    "        print(\"Epoch [{}], train_loss: {:.4f}, val_loss: {:.4f}, val_acc: {:.4f}\".format(\n",
    "            epoch, result['train_loss'], result['val_loss'], result['val_acc']))\n",
    "        \n",
    "def accuracy(outputs, labels):\n",
    "    _, preds = torch.max(outputs, dim=1)\n",
    "    return torch.tensor(torch.sum(preds == labels).item() / len(preds))"
   ]
  },
  {
   "cell_type": "code",
   "execution_count": 28,
   "id": "cbf9cdd9",
   "metadata": {},
   "outputs": [],
   "source": [
    "class CNNModel1(Classification):\n",
    "    def __init__(self):\n",
    "        super().__init__()\n",
    "        self.network = nn.Sequential(\n",
    "            nn.Conv2d(1, 28, kernel_size=3, padding=1),\n",
    "            nn.ReLU(),\n",
    "            nn.Conv2d(28, 56, kernel_size=3, stride=1, padding=1),\n",
    "            nn.ReLU(),\n",
    "            nn.MaxPool2d(2, 2), \n",
    "\n",
    "            nn.Conv2d(56, 112, kernel_size=3, stride=1, padding=1),\n",
    "            nn.ReLU(),\n",
    "            nn.Conv2d(112, 112, kernel_size=3, stride=1, padding=1),\n",
    "            nn.ReLU(),\n",
    "            nn.MaxPool2d(2, 2), # output: 112 x 7 x 7\n",
    "\n",
    "\n",
    "            nn.Flatten(), \n",
    "            nn.Linear(112*7*7, 784),\n",
    "            nn.ReLU(),\n",
    "            nn.Linear(784, 392),\n",
    "            nn.ReLU(),\n",
    "            nn.Linear(392, 10))\n",
    "        \n",
    "    def forward(self, xb):\n",
    "        return self.network(xb)"
   ]
  },
  {
   "cell_type": "code",
   "execution_count": 29,
   "id": "464e7360",
   "metadata": {
    "scrolled": true
   },
   "outputs": [
    {
     "data": {
      "text/plain": [
       "CNNModel1(\n",
       "  (network): Sequential(\n",
       "    (0): Conv2d(1, 28, kernel_size=(3, 3), stride=(1, 1), padding=(1, 1))\n",
       "    (1): ReLU()\n",
       "    (2): Conv2d(28, 56, kernel_size=(3, 3), stride=(1, 1), padding=(1, 1))\n",
       "    (3): ReLU()\n",
       "    (4): MaxPool2d(kernel_size=2, stride=2, padding=0, dilation=1, ceil_mode=False)\n",
       "    (5): Conv2d(56, 112, kernel_size=(3, 3), stride=(1, 1), padding=(1, 1))\n",
       "    (6): ReLU()\n",
       "    (7): Conv2d(112, 112, kernel_size=(3, 3), stride=(1, 1), padding=(1, 1))\n",
       "    (8): ReLU()\n",
       "    (9): MaxPool2d(kernel_size=2, stride=2, padding=0, dilation=1, ceil_mode=False)\n",
       "    (10): Flatten(start_dim=1, end_dim=-1)\n",
       "    (11): Linear(in_features=5488, out_features=784, bias=True)\n",
       "    (12): ReLU()\n",
       "    (13): Linear(in_features=784, out_features=392, bias=True)\n",
       "    (14): ReLU()\n",
       "    (15): Linear(in_features=392, out_features=10, bias=True)\n",
       "  )\n",
       ")"
      ]
     },
     "execution_count": 29,
     "metadata": {},
     "output_type": "execute_result"
    }
   ],
   "source": [
    "model1 = CNNModel1()\n",
    "model1"
   ]
  },
  {
   "cell_type": "code",
   "execution_count": 31,
   "id": "c8d11951",
   "metadata": {},
   "outputs": [
    {
     "name": "stdout",
     "output_type": "stream",
     "text": [
      "images.shape: torch.Size([128, 1, 28, 28])\n",
      "out.shape: torch.Size([128, 10])\n",
      "out[0]: tensor([ 0.0088, -0.0137, -0.0344, -0.0463,  0.0386, -0.0173, -0.0183,  0.0505,\n",
      "         0.0025, -0.0418], grad_fn=<SelectBackward0>)\n"
     ]
    }
   ],
   "source": [
    "for images, labels in train_loader:\n",
    "    print('images.shape:', images.shape)\n",
    "    out = model1(images)\n",
    "    print('out.shape:', out.shape)\n",
    "    print('out[0]:', out[0])\n",
    "    break"
   ]
  },
  {
   "cell_type": "code",
   "execution_count": 33,
   "id": "a8637f6b",
   "metadata": {},
   "outputs": [],
   "source": [
    "#Device choosing\n",
    "def get_default_device():\n",
    "    \"\"\"Pick GPU if available, else CPU\"\"\"\n",
    "    if torch.cuda.is_available():\n",
    "        return torch.device('cuda')\n",
    "    else:\n",
    "        return torch.device('cpu')\n",
    "    \n",
    "def to_device(data, device):\n",
    "    \"\"\"Move tensor(s) to chosen device\"\"\"\n",
    "    if isinstance(data, (list,tuple)):\n",
    "        return [to_device(x, device) for x in data]\n",
    "    return data.to(device, non_blocking=True)\n",
    "\n",
    "class DeviceDataLoader():\n",
    "    \"\"\"Wrap a dataloader to move data to a device\"\"\"\n",
    "    def __init__(self, dl, device):\n",
    "        self.dl = dl\n",
    "        self.device = device\n",
    "        \n",
    "    def __iter__(self):\n",
    "        \"\"\"Yield a batch of data after moving it to device\"\"\"\n",
    "        for b in self.dl: \n",
    "            yield to_device(b, self.device)\n",
    "\n",
    "    def __len__(self):\n",
    "        \"\"\"Number of batches\"\"\"\n",
    "        return len(self.dl)"
   ]
  },
  {
   "cell_type": "code",
   "execution_count": 34,
   "id": "de3310db",
   "metadata": {},
   "outputs": [
    {
     "data": {
      "text/plain": [
       "device(type='cpu')"
      ]
     },
     "execution_count": 34,
     "metadata": {},
     "output_type": "execute_result"
    }
   ],
   "source": [
    "device = get_default_device()\n",
    "device"
   ]
  },
  {
   "cell_type": "code",
   "execution_count": 36,
   "id": "77052027",
   "metadata": {},
   "outputs": [],
   "source": [
    "train_loader = DeviceDataLoader(train_loader, device)\n",
    "validation_loader = DeviceDataLoader(validation_loader, device)\n",
    "to_device(model1, device);"
   ]
  },
  {
   "cell_type": "code",
   "execution_count": 43,
   "id": "93469855",
   "metadata": {},
   "outputs": [],
   "source": [
    "@torch.no_grad()\n",
    "def evaluate(model, val_loader):\n",
    "    model.eval()\n",
    "    outputs = [model.validation_step(batch) for batch in val_loader]\n",
    "    return model.validation_epoch_end(outputs)\n",
    "\n",
    "def fit(epochs, lr, model, train_loader, val_loader, opt_func=torch.optim.SGD):\n",
    "    history = []\n",
    "    optimizer = opt_func(model.parameters(), lr)\n",
    "    for epoch in range(epochs):\n",
    "        # Training Phase \n",
    "        model.train()\n",
    "        train_losses = []\n",
    "        for batch in train_loader:\n",
    "            loss = model.training_function(batch)\n",
    "            train_losses.append(loss)\n",
    "            loss.backward()\n",
    "            optimizer.step()\n",
    "            optimizer.zero_grad()\n",
    "        # Validation phase\n",
    "        result = evaluate(model, val_loader)\n",
    "        result['train_loss'] = torch.stack(train_losses).mean().item()\n",
    "        model.epoch_end(epoch, result)\n",
    "        history.append(result)\n",
    "    return history"
   ]
  },
  {
   "cell_type": "code",
   "execution_count": 44,
   "id": "3daf9ca2",
   "metadata": {},
   "outputs": [],
   "source": [
    "model = to_device(CNNModel1(), device)"
   ]
  },
  {
   "cell_type": "code",
   "execution_count": 45,
   "id": "72563c5d",
   "metadata": {},
   "outputs": [
    {
     "data": {
      "text/plain": [
       "{'val_loss': 2.3023860454559326, 'val_acc': 0.10205696523189545}"
      ]
     },
     "execution_count": 45,
     "metadata": {},
     "output_type": "execute_result"
    }
   ],
   "source": [
    "evaluate(model, validation_loader)"
   ]
  },
  {
   "cell_type": "code",
   "execution_count": 46,
   "id": "136e9a96",
   "metadata": {},
   "outputs": [],
   "source": [
    "#hyperparmeters\n",
    "num_epochs = 10\n",
    "opt_func = torch.optim.Adam\n",
    "lr = 0.001"
   ]
  },
  {
   "cell_type": "code",
   "execution_count": 47,
   "id": "856fdc1f",
   "metadata": {},
   "outputs": [
    {
     "name": "stdout",
     "output_type": "stream",
     "text": [
      "Epoch [0], train_loss: 0.2509, val_loss: 0.0657, val_acc: 0.9809\n",
      "Epoch [1], train_loss: 0.0464, val_loss: 0.0422, val_acc: 0.9867\n",
      "Epoch [2], train_loss: 0.0291, val_loss: 0.0478, val_acc: 0.9868\n",
      "Epoch [3], train_loss: 0.0215, val_loss: 0.0428, val_acc: 0.9867\n",
      "Epoch [4], train_loss: 0.0161, val_loss: 0.0509, val_acc: 0.9864\n",
      "Epoch [5], train_loss: 0.0137, val_loss: 0.0430, val_acc: 0.9890\n",
      "Epoch [6], train_loss: 0.0115, val_loss: 0.0392, val_acc: 0.9907\n",
      "Epoch [7], train_loss: 0.0102, val_loss: 0.0526, val_acc: 0.9869\n",
      "Epoch [8], train_loss: 0.0103, val_loss: 0.0511, val_acc: 0.9902\n",
      "Epoch [9], train_loss: 0.0074, val_loss: 0.0687, val_acc: 0.9854\n"
     ]
    }
   ],
   "source": [
    "history = fit(num_epochs, lr, model, train_loader, validation_loader, opt_func)"
   ]
  },
  {
   "cell_type": "code",
   "execution_count": 56,
   "id": "4115594e",
   "metadata": {},
   "outputs": [],
   "source": [
    "def plot_accuracies(history):\n",
    "    accuracies = [x['val_acc'] for x in history]\n",
    "    plt.plot(accuracies, '-x')\n",
    "    plt.xlabel('epoch')\n",
    "    plt.ylabel('accuracy')\n",
    "    plt.title('Model 1: Accuracy');"
   ]
  },
  {
   "cell_type": "code",
   "execution_count": 57,
   "id": "8f207c82",
   "metadata": {},
   "outputs": [
    {
     "data": {
      "image/png": "[encoded data removed]",
      "text/plain": [
       "<Figure size 432x288 with 1 Axes>"
      ]
     },
     "metadata": {
      "needs_background": "light"
     },
     "output_type": "display_data"
    }
   ],
   "source": [
    "plot_accuracies(history)"
   ]
  },
  {
   "cell_type": "code",
   "execution_count": 58,
   "id": "7024cc7a",
   "metadata": {},
   "outputs": [],
   "source": [
    "def plot_losses(history):\n",
    "    train_losses = [x.get('train_loss') for x in history]\n",
    "    plt.plot(train_losses, '-bx')\n",
    "    plt.xlabel('epoch')\n",
    "    plt.ylabel('Train loss')\n",
    "    plt.title('Model 1: Loss vs. No. of epochs');"
   ]
  },
  {
   "cell_type": "code",
   "execution_count": 59,
   "id": "749b8e8e",
   "metadata": {},
   "outputs": [
    {
     "data": {
      "image/png": "[encoded data removed]",
      "text/plain": [
       "<Figure size 432x288 with 1 Axes>"
      ]
     },
     "metadata": {
      "needs_background": "light"
     },
     "output_type": "display_data"
    }
   ],
   "source": [
    "plot_losses(history)"
   ]
  },
  {
   "cell_type": "code",
   "execution_count": 79,
   "id": "e9e4f025",
   "metadata": {},
   "outputs": [],
   "source": [
    "class CNNModel2(Classification):\n",
    "    def __init__(self):\n",
    "        super().__init__()\n",
    "        self.network = nn.Sequential(\n",
    "            nn.Conv2d(1, 28, kernel_size=3, padding=1),\n",
    "            nn.ReLU(),\n",
    "            nn.Conv2d(28, 112, kernel_size=3, stride=1, padding=1),\n",
    "            nn.ReLU(),\n",
    "            nn.MaxPool2d(2, 2), \n",
    "\n",
    "            nn.Conv2d(112, 224, kernel_size=3, stride=1, padding=1),\n",
    "            nn.ReLU(),\n",
    "            nn.Conv2d(224, 224, kernel_size=3, stride=1, padding=1),\n",
    "            nn.ReLU(),\n",
    "            nn.MaxPool2d(2, 2), # output: 224 x 7 x 7\n",
    "\n",
    "\n",
    "            nn.Flatten(), \n",
    "            nn.Linear(224*7*7, 1568),\n",
    "            nn.ReLU(),\n",
    "            nn.Linear(1568, 784),\n",
    "            nn.ReLU(),\n",
    "            nn.Linear(784, 10))\n",
    "        \n",
    "    def forward(self, xb):\n",
    "        return self.network(xb)"
   ]
  },
  {
   "cell_type": "code",
   "execution_count": 66,
   "id": "69f3d18f",
   "metadata": {},
   "outputs": [
    {
     "data": {
      "text/plain": [
       "CNNModel2(\n",
       "  (network): Sequential(\n",
       "    (0): Conv2d(1, 28, kernel_size=(2, 2), stride=(1, 1), padding=(1, 1))\n",
       "    (1): ReLU()\n",
       "    (2): Conv2d(28, 56, kernel_size=(2, 2), stride=(1, 1), padding=(1, 1))\n",
       "    (3): ReLU()\n",
       "    (4): MaxPool2d(kernel_size=2, stride=2, padding=0, dilation=1, ceil_mode=False)\n",
       "    (5): Conv2d(56, 112, kernel_size=(2, 2), stride=(1, 1), padding=(1, 1))\n",
       "    (6): ReLU()\n",
       "    (7): Conv2d(112, 112, kernel_size=(2, 2), stride=(1, 1), padding=(1, 1))\n",
       "    (8): ReLU()\n",
       "    (9): MaxPool2d(kernel_size=2, stride=2, padding=0, dilation=1, ceil_mode=False)\n",
       "    (10): Flatten(start_dim=1, end_dim=-1)\n",
       "    (11): Linear(in_features=5488, out_features=784, bias=True)\n",
       "    (12): ReLU()\n",
       "    (13): Linear(in_features=784, out_features=392, bias=True)\n",
       "    (14): ReLU()\n",
       "    (15): Linear(in_features=392, out_features=10, bias=True)\n",
       "  )\n",
       ")"
      ]
     },
     "execution_count": 66,
     "metadata": {},
     "output_type": "execute_result"
    }
   ],
   "source": [
    "model2 = CNNModel2()\n",
    "model2"
   ]
  },
  {
   "cell_type": "code",
   "execution_count": 80,
   "id": "ae672b8a",
   "metadata": {},
   "outputs": [],
   "source": [
    "#Device choosing\n",
    "def get_default_device():\n",
    "    \"\"\"Pick GPU if available, else CPU\"\"\"\n",
    "    if torch.cuda.is_available():\n",
    "        return torch.device('cuda')\n",
    "    else:\n",
    "        return torch.device('cpu')\n",
    "    \n",
    "def to_device(data, device):\n",
    "    \"\"\"Move tensor(s) to chosen device\"\"\"\n",
    "    if isinstance(data, (list,tuple)):\n",
    "        return [to_device(x, device) for x in data]\n",
    "    return data.to(device, non_blocking=True)\n",
    "\n",
    "class DeviceDataLoader():\n",
    "    \"\"\"Wrap a dataloader to move data to a device\"\"\"\n",
    "    def __init__(self, dl, device):\n",
    "        self.dl = dl\n",
    "        self.device = device\n",
    "        \n",
    "    def __iter__(self):\n",
    "        \"\"\"Yield a batch of data after moving it to device\"\"\"\n",
    "        for b in self.dl: \n",
    "            yield to_device(b, self.device)\n",
    "\n",
    "    def __len__(self):\n",
    "        \"\"\"Number of batches\"\"\"\n",
    "        return len(self.dl)"
   ]
  },
  {
   "cell_type": "code",
   "execution_count": 81,
   "id": "3bdb8a73",
   "metadata": {},
   "outputs": [
    {
     "data": {
      "text/plain": [
       "device(type='cpu')"
      ]
     },
     "execution_count": 81,
     "metadata": {},
     "output_type": "execute_result"
    }
   ],
   "source": [
    "device = get_default_device()\n",
    "device"
   ]
  },
  {
   "cell_type": "code",
   "execution_count": 82,
   "id": "1c768b85",
   "metadata": {},
   "outputs": [],
   "source": [
    "train_loader = DeviceDataLoader(train_loader, device)\n",
    "validation_loader = DeviceDataLoader(validation_loader, device)\n",
    "to_device(model2, device);"
   ]
  },
  {
   "cell_type": "code",
   "execution_count": 83,
   "id": "8da8684a",
   "metadata": {},
   "outputs": [],
   "source": [
    "@torch.no_grad()\n",
    "def evaluate(model, val_loader):\n",
    "    model.eval()\n",
    "    outputs = [model.validation_step(batch) for batch in val_loader]\n",
    "    return model.validation_epoch_end(outputs)\n",
    "\n",
    "def fit(epochs, lr, model, train_loader, val_loader, opt_func=torch.optim.SGD):\n",
    "    history = []\n",
    "    optimizer = opt_func(model.parameters(), lr)\n",
    "    for epoch in range(epochs):\n",
    "        # Training Phase \n",
    "        model.train()\n",
    "        train_losses = []\n",
    "        for batch in train_loader:\n",
    "            loss = model.training_function(batch)\n",
    "            train_losses.append(loss)\n",
    "            loss.backward()\n",
    "            optimizer.step()\n",
    "            optimizer.zero_grad()\n",
    "        # Validation phase\n",
    "        result = evaluate(model, val_loader)\n",
    "        result['train_loss'] = torch.stack(train_losses).mean().item()\n",
    "        model.epoch_end(epoch, result)\n",
    "        history.append(result)\n",
    "    return history"
   ]
  },
  {
   "cell_type": "code",
   "execution_count": 84,
   "id": "10acb26c",
   "metadata": {},
   "outputs": [],
   "source": [
    "model = to_device(CNNModel2(), device)"
   ]
  },
  {
   "cell_type": "code",
   "execution_count": 85,
   "id": "724bb4cb",
   "metadata": {},
   "outputs": [
    {
     "data": {
      "text/plain": [
       "{'val_loss': 2.3025944232940674, 'val_acc': 0.10541930049657822}"
      ]
     },
     "execution_count": 85,
     "metadata": {},
     "output_type": "execute_result"
    }
   ],
   "source": [
    "evaluate(model, validation_loader)"
   ]
  },
  {
   "cell_type": "code",
   "execution_count": 86,
   "id": "3944a802",
   "metadata": {},
   "outputs": [],
   "source": [
    "#hyperparmeters\n",
    "num_epochs = 10\n",
    "opt_func = torch.optim.Adam\n",
    "lr = 0.001"
   ]
  },
  {
   "cell_type": "code",
   "execution_count": 87,
   "id": "c255a5e8",
   "metadata": {},
   "outputs": [
    {
     "name": "stdout",
     "output_type": "stream",
     "text": [
      "Epoch [0], train_loss: 0.1907, val_loss: 0.0662, val_acc: 0.9821\n",
      "Epoch [1], train_loss: 0.0453, val_loss: 0.0602, val_acc: 0.9831\n",
      "Epoch [2], train_loss: 0.0301, val_loss: 0.0381, val_acc: 0.9876\n",
      "Epoch [3], train_loss: 0.0221, val_loss: 0.0348, val_acc: 0.9900\n",
      "Epoch [4], train_loss: 0.0183, val_loss: 0.0366, val_acc: 0.9899\n",
      "Epoch [5], train_loss: 0.0136, val_loss: 0.0373, val_acc: 0.9905\n",
      "Epoch [6], train_loss: 0.0130, val_loss: 0.0536, val_acc: 0.9874\n",
      "Epoch [7], train_loss: 0.0128, val_loss: 0.0488, val_acc: 0.9873\n",
      "Epoch [8], train_loss: 0.0120, val_loss: 0.0460, val_acc: 0.9889\n",
      "Epoch [9], train_loss: 0.0085, val_loss: 0.0458, val_acc: 0.9905\n"
     ]
    }
   ],
   "source": [
    "history = fit(num_epochs, lr, model, train_loader, validation_loader, opt_func)"
   ]
  },
  {
   "cell_type": "code",
   "execution_count": 88,
   "id": "328da544",
   "metadata": {},
   "outputs": [],
   "source": [
    "def plot_accuracies(history):\n",
    "    accuracies = [x['val_acc'] for x in history]\n",
    "    plt.plot(accuracies, '-x')\n",
    "    plt.xlabel('epoch')\n",
    "    plt.ylabel('accuracy')\n",
    "    plt.title('Model 2: Accuracy');"
   ]
  },
  {
   "cell_type": "code",
   "execution_count": 89,
   "id": "3f408d62",
   "metadata": {},
   "outputs": [
    {
     "data": {
      "image/png": "[encoded data removed]",
      "text/plain": [
       "<Figure size 432x288 with 1 Axes>"
      ]
     },
     "metadata": {
      "needs_background": "light"
     },
     "output_type": "display_data"
    }
   ],
   "source": [
    "plot_accuracies(history)"
   ]
  },
  {
   "cell_type": "code",
   "execution_count": 90,
   "id": "b946cdf8",
   "metadata": {},
   "outputs": [],
   "source": [
    "def plot_losses(history):\n",
    "    train_losses = [x.get('train_loss') for x in history]\n",
    "    plt.plot(train_losses, '-bx')\n",
    "    plt.xlabel('epoch')\n",
    "    plt.ylabel('Train loss')\n",
    "    plt.title('Model 2: Loss vs. No. of epochs');"
   ]
  },
  {
   "cell_type": "code",
   "execution_count": 91,
   "id": "6370b750",
   "metadata": {},
   "outputs": [
    {
     "data": {
      "image/png": "[encoded data removed]",
      "text/plain": [
       "<Figure size 432x288 with 1 Axes>"
      ]
     },
     "metadata": {
      "needs_background": "light"
     },
     "output_type": "display_data"
    }
   ],
   "source": [
    "plot_losses(history)"
   ]
  },
  {
   "cell_type": "code",
   "execution_count": 92,
   "id": "73942327",
   "metadata": {},
   "outputs": [],
   "source": [
    "class CNNModel3(Classification):\n",
    "    def __init__(self):\n",
    "        super().__init__()\n",
    "        self.network = nn.Sequential(\n",
    "            nn.Conv2d(1, 28, kernel_size=3, padding=1),\n",
    "            nn.ReLU(),\n",
    "            nn.Conv2d(28, 28, kernel_size=3, stride=1, padding=1),\n",
    "            nn.ReLU(),\n",
    "            nn.MaxPool2d(2, 2), \n",
    "\n",
    "            nn.Conv2d(28, 56, kernel_size=3, stride=1, padding=1),\n",
    "            nn.ReLU(),\n",
    "            nn.Conv2d(56, 56, kernel_size=3, stride=1, padding=1),\n",
    "            nn.ReLU(),\n",
    "            nn.MaxPool2d(2, 2), # output: 56 x 7 x 7\n",
    "\n",
    "            nn.Flatten(), \n",
    "            nn.Linear(56*7*7, 392),\n",
    "            nn.ReLU(),\n",
    "            nn.Linear(392, 196),\n",
    "            nn.ReLU(),\n",
    "            nn.Linear(196, 10))\n",
    "        \n",
    "    def forward(self, xb):\n",
    "        return self.network(xb)"
   ]
  },
  {
   "cell_type": "code",
   "execution_count": 93,
   "id": "73badeb7",
   "metadata": {},
   "outputs": [
    {
     "data": {
      "text/plain": [
       "CNNModel3(\n",
       "  (network): Sequential(\n",
       "    (0): Conv2d(1, 28, kernel_size=(3, 3), stride=(1, 1), padding=(1, 1))\n",
       "    (1): ReLU()\n",
       "    (2): Conv2d(28, 28, kernel_size=(3, 3), stride=(1, 1), padding=(1, 1))\n",
       "    (3): ReLU()\n",
       "    (4): MaxPool2d(kernel_size=2, stride=2, padding=0, dilation=1, ceil_mode=False)\n",
       "    (5): Conv2d(28, 56, kernel_size=(3, 3), stride=(1, 1), padding=(1, 1))\n",
       "    (6): ReLU()\n",
       "    (7): Conv2d(56, 56, kernel_size=(3, 3), stride=(1, 1), padding=(1, 1))\n",
       "    (8): ReLU()\n",
       "    (9): MaxPool2d(kernel_size=2, stride=2, padding=0, dilation=1, ceil_mode=False)\n",
       "    (10): Flatten(start_dim=1, end_dim=-1)\n",
       "    (11): Linear(in_features=2744, out_features=392, bias=True)\n",
       "    (12): ReLU()\n",
       "    (13): Linear(in_features=392, out_features=196, bias=True)\n",
       "    (14): ReLU()\n",
       "    (15): Linear(in_features=196, out_features=10, bias=True)\n",
       "  )\n",
       ")"
      ]
     },
     "execution_count": 93,
     "metadata": {},
     "output_type": "execute_result"
    }
   ],
   "source": [
    "model3 = CNNModel3()\n",
    "model3"
   ]
  },
  {
   "cell_type": "code",
   "execution_count": 94,
   "id": "32b570da",
   "metadata": {},
   "outputs": [],
   "source": [
    "#Device choosing\n",
    "def get_default_device():\n",
    "    \"\"\"Pick GPU if available, else CPU\"\"\"\n",
    "    if torch.cuda.is_available():\n",
    "        return torch.device('cuda')\n",
    "    else:\n",
    "        return torch.device('cpu')\n",
    "    \n",
    "def to_device(data, device):\n",
    "    \"\"\"Move tensor(s) to chosen device\"\"\"\n",
    "    if isinstance(data, (list,tuple)):\n",
    "        return [to_device(x, device) for x in data]\n",
    "    return data.to(device, non_blocking=True)\n",
    "\n",
    "class DeviceDataLoader():\n",
    "    \"\"\"Wrap a dataloader to move data to a device\"\"\"\n",
    "    def __init__(self, dl, device):\n",
    "        self.dl = dl\n",
    "        self.device = device\n",
    "        \n",
    "    def __iter__(self):\n",
    "        \"\"\"Yield a batch of data after moving it to device\"\"\"\n",
    "        for b in self.dl: \n",
    "            yield to_device(b, self.device)\n",
    "\n",
    "    def __len__(self):\n",
    "        \"\"\"Number of batches\"\"\"\n",
    "        return len(self.dl)"
   ]
  },
  {
   "cell_type": "code",
   "execution_count": 95,
   "id": "402dce71",
   "metadata": {},
   "outputs": [
    {
     "data": {
      "text/plain": [
       "device(type='cpu')"
      ]
     },
     "execution_count": 95,
     "metadata": {},
     "output_type": "execute_result"
    }
   ],
   "source": [
    "device = get_default_device()\n",
    "device"
   ]
  },
  {
   "cell_type": "code",
   "execution_count": 97,
   "id": "614ef9af",
   "metadata": {},
   "outputs": [],
   "source": [
    "train_loader = DeviceDataLoader(train_loader, device)\n",
    "validation_loader = DeviceDataLoader(validation_loader, device)\n",
    "to_device(model3, device);"
   ]
  },
  {
   "cell_type": "code",
   "execution_count": 98,
   "id": "260d71ea",
   "metadata": {},
   "outputs": [],
   "source": [
    "@torch.no_grad()\n",
    "def evaluate(model, val_loader):\n",
    "    model.eval()\n",
    "    outputs = [model.validation_step(batch) for batch in val_loader]\n",
    "    return model.validation_epoch_end(outputs)\n",
    "\n",
    "def fit(epochs, lr, model, train_loader, val_loader, opt_func=torch.optim.SGD):\n",
    "    history = []\n",
    "    optimizer = opt_func(model.parameters(), lr)\n",
    "    for epoch in range(epochs):\n",
    "        # Training Phase \n",
    "        model.train()\n",
    "        train_losses = []\n",
    "        for batch in train_loader:\n",
    "            loss = model.training_function(batch)\n",
    "            train_losses.append(loss)\n",
    "            loss.backward()\n",
    "            optimizer.step()\n",
    "            optimizer.zero_grad()\n",
    "        # Validation phase\n",
    "        result = evaluate(model, val_loader)\n",
    "        result['train_loss'] = torch.stack(train_losses).mean().item()\n",
    "        model.epoch_end(epoch, result)\n",
    "        history.append(result)\n",
    "    return history"
   ]
  },
  {
   "cell_type": "code",
   "execution_count": 99,
   "id": "0b21fe98",
   "metadata": {},
   "outputs": [],
   "source": [
    "model = to_device(CNNModel3(), device)"
   ]
  },
  {
   "cell_type": "code",
   "execution_count": 100,
   "id": "7a46dbed",
   "metadata": {},
   "outputs": [
    {
     "data": {
      "text/plain": [
       "{'val_loss': 2.303454875946045, 'val_acc': 0.09988132864236832}"
      ]
     },
     "execution_count": 100,
     "metadata": {},
     "output_type": "execute_result"
    }
   ],
   "source": [
    "evaluate(model, validation_loader)"
   ]
  },
  {
   "cell_type": "code",
   "execution_count": 101,
   "id": "b0244dd7",
   "metadata": {},
   "outputs": [],
   "source": [
    "#hyperparmeters\n",
    "num_epochs = 10\n",
    "opt_func = torch.optim.Adam\n",
    "lr = 0.001"
   ]
  },
  {
   "cell_type": "code",
   "execution_count": 102,
   "id": "b7f42c32",
   "metadata": {},
   "outputs": [
    {
     "name": "stdout",
     "output_type": "stream",
     "text": [
      "Epoch [0], train_loss: 0.2641, val_loss: 0.0786, val_acc: 0.9748\n",
      "Epoch [1], train_loss: 0.0551, val_loss: 0.0548, val_acc: 0.9842\n",
      "Epoch [2], train_loss: 0.0384, val_loss: 0.0422, val_acc: 0.9870\n",
      "Epoch [3], train_loss: 0.0275, val_loss: 0.0499, val_acc: 0.9856\n",
      "Epoch [4], train_loss: 0.0200, val_loss: 0.0499, val_acc: 0.9880\n",
      "Epoch [5], train_loss: 0.0171, val_loss: 0.0431, val_acc: 0.9893\n",
      "Epoch [6], train_loss: 0.0140, val_loss: 0.0403, val_acc: 0.9904\n",
      "Epoch [7], train_loss: 0.0122, val_loss: 0.0429, val_acc: 0.9909\n",
      "Epoch [8], train_loss: 0.0103, val_loss: 0.0475, val_acc: 0.9883\n",
      "Epoch [9], train_loss: 0.0090, val_loss: 0.0500, val_acc: 0.9866\n"
     ]
    }
   ],
   "source": [
    "history = fit(num_epochs, lr, model, train_loader, validation_loader, opt_func)"
   ]
  },
  {
   "cell_type": "code",
   "execution_count": 103,
   "id": "9d8c277a",
   "metadata": {},
   "outputs": [],
   "source": [
    "def plot_accuracies(history):\n",
    "    accuracies = [x['val_acc'] for x in history]\n",
    "    plt.plot(accuracies, '-x')\n",
    "    plt.xlabel('epoch')\n",
    "    plt.ylabel('accuracy')\n",
    "    plt.title('Model 3: Accuracy');"
   ]
  },
  {
   "cell_type": "code",
   "execution_count": 104,
   "id": "fcef558a",
   "metadata": {},
   "outputs": [
    {
     "data": {
      "image/png": "[encoded data removed]",
      "text/plain": [
       "<Figure size 432x288 with 1 Axes>"
      ]
     },
     "metadata": {
      "needs_background": "light"
     },
     "output_type": "display_data"
    }
   ],
   "source": [
    "plot_accuracies(history)"
   ]
  },
  {
   "cell_type": "code",
   "execution_count": 105,
   "id": "c2ab8018",
   "metadata": {},
   "outputs": [],
   "source": [
    "def plot_losses(history):\n",
    "    train_losses = [x.get('train_loss') for x in history]\n",
    "    plt.plot(train_losses, '-bx')\n",
    "    plt.xlabel('epoch')\n",
    "    plt.ylabel('Train loss')\n",
    "    plt.title('Model 3: Loss vs. No. of epochs');"
   ]
  },
  {
   "cell_type": "code",
   "execution_count": 106,
   "id": "9d27dc07",
   "metadata": {},
   "outputs": [
    {
     "data": {
      "image/png": "[encoded data removed]",
      "text/plain": [
       "<Figure size 432x288 with 1 Axes>"
      ]
     },
     "metadata": {
      "needs_background": "light"
     },
     "output_type": "display_data"
    }
   ],
   "source": [
    "plot_losses(history)"
   ]
  },
  {
   "cell_type": "code",
   "execution_count": null,
   "id": "a14caae5",
   "metadata": {},
   "outputs": [],
   "source": []
  }
 ],
 "metadata": {
  "kernelspec": {
   "display_name": "Python 3 (ipykernel)",
   "language": "python",
   "name": "python3"
  },
  "language_info": {
   "codemirror_mode": {
    "name": "ipython",
    "version": 3
   },
   "file_extension": ".py",
   "mimetype": "text/x-python",
   "name": "python",
   "nbconvert_exporter": "python",
   "pygments_lexer": "ipython3",
   "version": "3.9.7"
  }
 },
 "nbformat": 4,
 "nbformat_minor": 5
}
