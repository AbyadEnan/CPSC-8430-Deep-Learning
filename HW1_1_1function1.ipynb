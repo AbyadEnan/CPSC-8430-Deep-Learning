{
 "cells": [
  {
   "cell_type": "code",
   "execution_count": 264,
   "id": "f97edb5c",
   "metadata": {},
   "outputs": [],
   "source": [
    "import numpy as np\n",
    "import pandas as pd\n",
    "import math\n",
    "import sklearn\n",
    "import torch\n",
    "import torch.nn as nn\n",
    "import torch.nn.parallel\n",
    "import torch.optim as optim\n",
    "import torch.nn.functional as F\n",
    "from torch.autograd import Variable\n",
    "import matplotlib.pyplot as plt"
   ]
  },
  {
   "cell_type": "code",
   "execution_count": 265,
   "id": "3611890e",
   "metadata": {},
   "outputs": [
    {
     "name": "stdout",
     "output_type": "stream",
     "text": [
      "length of x: torch.Size([200, 1])\n",
      "length of y: torch.Size([200, 1])\n"
     ]
    }
   ],
   "source": [
    "## Function 1  ###\n",
    "x = torch.unsqueeze(torch.linspace(-1, 1, 200), dim=1)\n",
    "\n",
    "#choosing sin(x) as a nonliner function\n",
    "y = (np.sin(5*np.pi*x))/(5*np.pi*x)\n",
    "\n",
    "print('length of x:',x.shape)\n",
    "print('length of y:',y.shape)"
   ]
  },
  {
   "cell_type": "code",
   "execution_count": 266,
   "id": "b5b314ff",
   "metadata": {},
   "outputs": [
    {
     "data": {
      "text/plain": [
       "[<matplotlib.lines.Line2D at 0x2322a085100>]"
      ]
     },
     "execution_count": 266,
     "metadata": {},
     "output_type": "execute_result"
    },
    {
     "data": {
      "image/png": "[encoded data removed]",
      "text/plain": [
       "<Figure size 432x288 with 1 Axes>"
      ]
     },
     "metadata": {
      "needs_background": "light"
     },
     "output_type": "display_data"
    }
   ],
   "source": [
    "plt.plot(x,y)"
   ]
  },
  {
   "cell_type": "code",
   "execution_count": 267,
   "id": "8d8163b8",
   "metadata": {},
   "outputs": [
    {
     "name": "stdout",
     "output_type": "stream",
     "text": [
      "Number of parameters in Model 1: 571\n",
      "\n",
      "Model 1 weight and bias before training\n",
      "\n",
      "hiddenlayer1.weight \t tensor([[-0.2178],\n",
      "        [ 0.2307],\n",
      "        [-0.4105],\n",
      "        [ 0.1756],\n",
      "        [ 0.8910]])\n",
      "hiddenlayer1.bias \t tensor([ 0.8728, -0.3675, -0.5912,  0.9288, -0.8736])\n",
      "hiddenlayer2.weight \t tensor([[ 0.1333, -0.0466, -0.2051,  0.3785, -0.1653],\n",
      "        [-0.3411,  0.2289,  0.0473, -0.3968, -0.1440],\n",
      "        [-0.3256,  0.1426, -0.3496,  0.4164,  0.2580],\n",
      "        [ 0.3458,  0.2394,  0.3354,  0.0534,  0.3247],\n",
      "        [-0.0397,  0.1343, -0.0639,  0.1176,  0.1217],\n",
      "        [ 0.3956, -0.2806, -0.2043,  0.2158,  0.3101],\n",
      "        [ 0.1460,  0.1260, -0.1418,  0.2634,  0.0850],\n",
      "        [-0.2844,  0.4239,  0.3188,  0.2405,  0.1812],\n",
      "        [ 0.1566,  0.0687,  0.2905, -0.2506,  0.3109],\n",
      "        [ 0.0260, -0.0173, -0.3225,  0.3672,  0.3804]])\n",
      "hiddenlayer2.bias \t tensor([-0.0824,  0.4001, -0.0584, -0.2971, -0.0603,  0.3375,  0.1395,  0.4411,\n",
      "        -0.1864, -0.1502])\n",
      "hiddenlayer3.weight \t tensor([[ 0.2101, -0.0150, -0.0969, -0.1433, -0.0486, -0.0420, -0.2343,  0.1165,\n",
      "         -0.2768,  0.0189],\n",
      "        [ 0.1695,  0.2743,  0.0411,  0.0338, -0.0739,  0.2866,  0.2064, -0.2972,\n",
      "          0.2442,  0.3073],\n",
      "        [ 0.1974,  0.1683,  0.0324,  0.0048, -0.3122,  0.2951,  0.0962,  0.1829,\n",
      "          0.1438,  0.2541],\n",
      "        [ 0.1398, -0.1692, -0.2406, -0.2474,  0.1929, -0.1997,  0.2143, -0.0036,\n",
      "         -0.0547, -0.0356],\n",
      "        [-0.2913,  0.1038, -0.2789,  0.1322, -0.0147,  0.2377, -0.0697,  0.3080,\n",
      "          0.0844,  0.0392],\n",
      "        [ 0.0294,  0.3008,  0.2175,  0.2035,  0.0774,  0.1338,  0.0571,  0.0373,\n",
      "          0.0337, -0.1037],\n",
      "        [ 0.1167,  0.1612, -0.1190,  0.2101, -0.1143, -0.2750, -0.1678, -0.1654,\n",
      "         -0.2860, -0.0393],\n",
      "        [ 0.1298,  0.0991,  0.1813, -0.1539,  0.1829,  0.1789, -0.1490,  0.2426,\n",
      "          0.1918, -0.2815],\n",
      "        [-0.0269, -0.0821, -0.1760, -0.2273, -0.1078, -0.2157,  0.0847, -0.0941,\n",
      "         -0.2626,  0.0335],\n",
      "        [ 0.1097,  0.0763, -0.1726,  0.0204, -0.2567, -0.0709,  0.2635, -0.0144,\n",
      "          0.1060,  0.0127]])\n",
      "hiddenlayer3.bias \t tensor([ 0.2432,  0.1668,  0.2215,  0.2758, -0.2648,  0.0554,  0.1199,  0.1156,\n",
      "        -0.0342, -0.1282])\n",
      "hiddenlayer4.weight \t tensor([[ 0.0327, -0.0404,  0.0906, -0.1026,  0.1958, -0.3132,  0.1739,  0.0354,\n",
      "         -0.2936, -0.1536],\n",
      "        [ 0.0436,  0.1530,  0.0492,  0.2814, -0.1284,  0.2333,  0.2605,  0.0176,\n",
      "          0.2016, -0.1659],\n",
      "        [-0.2079,  0.0581, -0.0725,  0.0080,  0.0401,  0.1428,  0.2659, -0.2812,\n",
      "         -0.1723, -0.2525],\n",
      "        [-0.2664,  0.1534, -0.3060, -0.1007,  0.2893,  0.2559,  0.0382,  0.1855,\n",
      "          0.2492,  0.1385],\n",
      "        [-0.2183, -0.2539,  0.1825,  0.0201,  0.1819,  0.0823,  0.1511,  0.2783,\n",
      "         -0.0404, -0.1057],\n",
      "        [ 0.1907,  0.0678, -0.3059, -0.1964,  0.1015,  0.1685,  0.0583,  0.1502,\n",
      "         -0.0285, -0.1712],\n",
      "        [-0.0793, -0.1951,  0.1240,  0.0307,  0.1488, -0.2546,  0.2551, -0.1139,\n",
      "         -0.1668,  0.1575],\n",
      "        [-0.0868,  0.2017,  0.0471,  0.1757,  0.1480,  0.2708, -0.2187, -0.1915,\n",
      "          0.1340, -0.2574],\n",
      "        [-0.2264, -0.1000, -0.3043,  0.2803,  0.0972, -0.1740,  0.0794, -0.0851,\n",
      "          0.0542,  0.0622],\n",
      "        [-0.3119, -0.1938, -0.2590, -0.3158, -0.1438, -0.0981,  0.3147,  0.0429,\n",
      "          0.3147, -0.2143]])\n",
      "hiddenlayer4.bias \t tensor([ 0.0580, -0.3120,  0.0356,  0.1937, -0.0961,  0.0829,  0.0832,  0.0840,\n",
      "        -0.2515,  0.1021])\n",
      "hiddenlayer5.weight \t tensor([[-0.0855,  0.1117,  0.0853, -0.2170,  0.0576, -0.2984, -0.2686,  0.2774,\n",
      "          0.1250,  0.0178],\n",
      "        [-0.0474,  0.2259, -0.1549,  0.0506, -0.0143, -0.1620, -0.2198, -0.1369,\n",
      "         -0.1012,  0.2574],\n",
      "        [ 0.1306,  0.2069,  0.1731,  0.3109,  0.2712, -0.0171, -0.2435,  0.2783,\n",
      "          0.1412,  0.0612],\n",
      "        [ 0.1796,  0.2333, -0.2836, -0.0253,  0.2591, -0.2287,  0.2148,  0.0129,\n",
      "          0.0408,  0.2156],\n",
      "        [-0.0769, -0.1219,  0.2276,  0.2159,  0.1366,  0.0896,  0.1067, -0.0464,\n",
      "          0.0130,  0.3042],\n",
      "        [ 0.0065,  0.2328, -0.1217,  0.3049, -0.1345, -0.1500,  0.1439,  0.0290,\n",
      "         -0.3146,  0.2839],\n",
      "        [-0.0538, -0.2099, -0.1884,  0.0226,  0.2908,  0.0491, -0.2100, -0.2845,\n",
      "         -0.1491,  0.0933],\n",
      "        [ 0.0093, -0.0893,  0.2527, -0.1814,  0.3016, -0.2576,  0.1776, -0.0185,\n",
      "          0.2671, -0.2163],\n",
      "        [ 0.1346, -0.2619, -0.1204,  0.0570,  0.1652, -0.0760,  0.0206, -0.0611,\n",
      "         -0.0034,  0.3008],\n",
      "        [-0.0580, -0.1856, -0.1195,  0.0830,  0.1842, -0.0351,  0.0361,  0.2347,\n",
      "          0.2157,  0.1516]])\n",
      "hiddenlayer5.bias \t tensor([-0.1170,  0.0394,  0.3006, -0.2718,  0.0226, -0.2772, -0.0172,  0.1953,\n",
      "         0.1083, -0.0451])\n",
      "hiddenlayer6.weight \t tensor([[-0.2867, -0.0654, -0.0633,  0.2832,  0.1924, -0.2189, -0.2286, -0.0304,\n",
      "         -0.3158, -0.2749],\n",
      "        [-0.0281,  0.2689,  0.1925, -0.1603, -0.0709, -0.0201,  0.0152,  0.2521,\n",
      "         -0.1088,  0.2772],\n",
      "        [-0.2278, -0.1158,  0.0385,  0.1852,  0.0693,  0.1474,  0.1490, -0.1877,\n",
      "          0.1186, -0.0661],\n",
      "        [-0.2248, -0.0701,  0.0922,  0.1295, -0.0900,  0.1157, -0.0009, -0.3102,\n",
      "          0.0788,  0.0531],\n",
      "        [-0.0381, -0.1298, -0.0727, -0.2162, -0.0121,  0.3104,  0.0207, -0.1554,\n",
      "         -0.1629, -0.1579],\n",
      "        [-0.1842,  0.0279,  0.2041,  0.0948, -0.1340, -0.2665,  0.2286,  0.2045,\n",
      "         -0.2338, -0.1982],\n",
      "        [ 0.1157,  0.1999,  0.0555, -0.1307, -0.0141,  0.2811, -0.0625, -0.2806,\n",
      "          0.2030,  0.1833],\n",
      "        [ 0.0911,  0.0789,  0.0199,  0.0928, -0.1375,  0.3118, -0.2159,  0.0558,\n",
      "          0.3046,  0.2063],\n",
      "        [-0.2004,  0.1228, -0.2337, -0.2920,  0.3161,  0.1061,  0.2596,  0.2573,\n",
      "         -0.1652,  0.2479],\n",
      "        [ 0.0941, -0.2937,  0.2504,  0.1771,  0.2653,  0.1471,  0.0918, -0.0637,\n",
      "          0.0513,  0.0378]])\n",
      "hiddenlayer6.bias \t tensor([ 0.1657,  0.2240, -0.1295, -0.0543,  0.1756, -0.1913, -0.1453,  0.2478,\n",
      "        -0.0374, -0.2889])\n",
      "hiddenlayer7.weight \t tensor([[ 0.1274,  0.1044,  0.1236,  0.1466, -0.0771, -0.1226,  0.1840,  0.2672,\n",
      "          0.2870,  0.2245],\n",
      "        [-0.2017,  0.3036,  0.1985, -0.3151,  0.2479, -0.0175,  0.2905,  0.1333,\n",
      "          0.0971, -0.2703],\n",
      "        [-0.3015,  0.1188,  0.2824, -0.1665,  0.1078,  0.2334,  0.1372,  0.1988,\n",
      "         -0.1193,  0.1290],\n",
      "        [-0.1956,  0.2242, -0.2773, -0.0997, -0.1079,  0.0918, -0.0019,  0.1572,\n",
      "         -0.1250,  0.0806],\n",
      "        [ 0.1813, -0.0434, -0.1521, -0.3130,  0.0407, -0.0501,  0.0629,  0.1350,\n",
      "          0.2115, -0.1735]])\n",
      "hiddenlayer7.bias \t tensor([ 0.3131, -0.1882,  0.2275,  0.1734, -0.2132])\n",
      "output.weight \t tensor([[ 0.1593,  0.4431,  0.0702, -0.3526, -0.4252]])\n",
      "output.bias \t tensor([0.1658])\n"
     ]
    }
   ],
   "source": [
    "#Function for model 1\n",
    "class Model1(nn.Module):\n",
    "    def __init__(self,):\n",
    "        super().__init__()\n",
    "        # hidden layers\n",
    "        self.hiddenlayer1 = nn.Linear(1, 5)   \n",
    "        self.hiddenlayer2 = nn.Linear(5, 10)\n",
    "        self.hiddenlayer3 = nn.Linear(10, 10)\n",
    "        self.hiddenlayer4 = nn.Linear(10, 10)\n",
    "        self.hiddenlayer5 = nn.Linear(10, 10)\n",
    "        self.hiddenlayer6 = nn.Linear(10, 10)\n",
    "        self.hiddenlayer7 = nn.Linear(10, 5)\n",
    "        # output layer\n",
    "        self.output = nn.Linear(5, 1)   \n",
    "\n",
    "        # activation functions for hidden layers\n",
    "    def forward(self, x):\n",
    "        x = F.relu(self.hiddenlayer1(x))      \n",
    "        x = F.relu(self.hiddenlayer2(x))\n",
    "        x = F.relu(self.hiddenlayer3(x))\n",
    "        x = F.relu(self.hiddenlayer4(x))\n",
    "        x = F.relu(self.hiddenlayer5(x))\n",
    "        x = F.relu(self.hiddenlayer6(x))\n",
    "        x = F.relu(self.hiddenlayer7(x))\n",
    "        x = self.output(x)            \n",
    "        return x     \n",
    "        \n",
    "\n",
    "#defining the model\n",
    "model1 = Model1()\n",
    "\n",
    "optimizer = torch.optim.Adam(model1.parameters(), lr=0.001, weight_decay = 0.0001)\n",
    "#finding Mean Squared Error Loss\n",
    "loss_function = torch.nn.MSELoss()  \n",
    "\n",
    "summation=[]\n",
    "\n",
    "for j in model1.parameters():\n",
    "    summation.append(torch.numel(j))\n",
    "    \n",
    "print('Number of parameters in Model 1:', np.sum(summation),)\n",
    "\n",
    "#Getting weights & bias\n",
    "print(\"\\nModel 1 weight and bias before training\\n\")\n",
    "\n",
    "for param in model1.state_dict():\n",
    "    print(param, \"\\t\",model1.state_dict()[param])"
   ]
  },
  {
   "cell_type": "code",
   "execution_count": 269,
   "id": "6218436c",
   "metadata": {},
   "outputs": [],
   "source": [
    "def testing(model,x,y):\n",
    "    maximum_epoch = 20000\n",
    "    epoch_array = []\n",
    "    loss_array = []\n",
    "    epoch = 0\n",
    "    not_converged = True\n",
    "    while not_converged:\n",
    "        \n",
    "        # for each x it the modedl predicts\n",
    "        prediction = model(x)     \n",
    "        loss = loss_function(prediction, y)\n",
    "        #clearing gradients for next training, otherwise it provides wrong result\n",
    "        optimizer.zero_grad()\n",
    "        # backpropagation for computing gradients\n",
    "        loss.backward()         \n",
    "        optimizer.step() \n",
    "        epoch_array.append(epoch)\n",
    "        loss_array.append(loss.detach().numpy())\n",
    "        \n",
    "        epoch = epoch + 1\n",
    "        \n",
    "        if epoch % 100 == 0 : print(f'epoch: {epoch}, loss = {loss.item():.4f}')\n",
    "                \n",
    "        if epoch == maximum_epoch:\n",
    "                print(\"Reached to Maximum number of Epoch\")\n",
    "                not_converged = False\n",
    "        elif (epoch > 5) and  (loss_array[-1] < 0.001):\n",
    "            if abs(loss_array[-3] - loss_array[-2]) < 1.0e-05 and abs(loss_array[-2] - loss_array[-1]) < 0.0001:\n",
    "                print(\"Converged:\",loss_array[-1])\n",
    "                not_converged = False\n",
    "                \n",
    "    return epoch_array,loss_array,prediction"
   ]
  },
  {
   "cell_type": "code",
   "execution_count": 270,
   "id": "5562663c",
   "metadata": {},
   "outputs": [
    {
     "name": "stderr",
     "output_type": "stream",
     "text": [
      "C:\\Users\\abyad\\AppData\\Local\\Temp/ipykernel_17104/2067748302.py:1: UserWarning: To copy construct from a tensor, it is recommended to use sourceTensor.clone().detach() or sourceTensor.clone().detach().requires_grad_(True), rather than torch.tensor(sourceTensor).\n",
      "  x = torch.tensor(x, dtype=torch.float32)\n",
      "C:\\Users\\abyad\\AppData\\Local\\Temp/ipykernel_17104/2067748302.py:2: UserWarning: To copy construct from a tensor, it is recommended to use sourceTensor.clone().detach() or sourceTensor.clone().detach().requires_grad_(True), rather than torch.tensor(sourceTensor).\n",
      "  y = torch.tensor(y, dtype=torch.float32)\n"
     ]
    }
   ],
   "source": [
    "x = torch.tensor(x, dtype=torch.float32) \n",
    "y = torch.tensor(y, dtype=torch.float32)"
   ]
  },
  {
   "cell_type": "code",
   "execution_count": 271,
   "id": "cae23fe3",
   "metadata": {},
   "outputs": [
    {
     "name": "stdout",
     "output_type": "stream",
     "text": [
      "epoch: 100, loss = 0.0867\n",
      "epoch: 200, loss = 0.0854\n",
      "epoch: 300, loss = 0.0221\n",
      "epoch: 400, loss = 0.0054\n",
      "epoch: 500, loss = 0.0044\n",
      "epoch: 600, loss = 0.0029\n",
      "epoch: 700, loss = 0.0012\n",
      "Converged: 0.0009941044\n"
     ]
    }
   ],
   "source": [
    "Model1epoch_array,Model1loss_array,Model1prediction = testing(model1,x,y)"
   ]
  },
  {
   "cell_type": "code",
   "execution_count": 272,
   "id": "ad021a14",
   "metadata": {},
   "outputs": [
    {
     "data": {
      "image/png": "[encoded data removed]",
      "text/plain": [
       "<Figure size 432x288 with 1 Axes>"
      ]
     },
     "metadata": {
      "needs_background": "light"
     },
     "output_type": "display_data"
    }
   ],
   "source": [
    "#error vs epoch plot\n",
    "plt.plot(Model1epoch_array, Model1loss_array)\n",
    "plt.title('Model 1 Loss vs Epoch')\n",
    "plt.show()"
   ]
  },
  {
   "cell_type": "code",
   "execution_count": 273,
   "id": "7e10f8be",
   "metadata": {},
   "outputs": [
    {
     "data": {
      "image/png": "[encoded data removed]",
      "text/plain": [
       "<Figure size 432x288 with 1 Axes>"
      ]
     },
     "metadata": {
      "needs_background": "light"
     },
     "output_type": "display_data"
    }
   ],
   "source": [
    "#Comparing the result with the actual plot\n",
    "\n",
    "#ploting the actual graph of the function\n",
    "plt.plot(x.numpy(),y.numpy(),color=\"red\")\n",
    "#ploting the prediction graph\n",
    "plt.plot(x,Model1prediction.data.numpy(),color=\"blue\")\n",
    "plt.title('Model Prediction 1 for comparsion with actual graph')\n",
    "plt.show()"
   ]
  },
  {
   "cell_type": "code",
   "execution_count": 274,
   "id": "2c39256c",
   "metadata": {},
   "outputs": [
    {
     "name": "stdout",
     "output_type": "stream",
     "text": [
      "Number of parameters in Model 2: 572\n",
      "\n",
      "Model 2 weight and bias before training\n",
      "\n",
      "hiddenlayer1.weight \t tensor([[ 0.1556],\n",
      "        [-0.1460],\n",
      "        [-0.7074],\n",
      "        [-0.3682],\n",
      "        [ 0.6933],\n",
      "        [-0.3721],\n",
      "        [-0.7046],\n",
      "        [ 0.1455],\n",
      "        [ 0.2065],\n",
      "        [-0.2542]])\n",
      "hiddenlayer1.bias \t tensor([ 0.3361,  0.3881, -0.5577, -0.4590, -0.6859, -0.8726,  0.5291, -0.9114,\n",
      "         0.7515,  0.8544])\n",
      "hiddenlayer2.weight \t tensor([[-0.1709, -0.0230, -0.1777, -0.0789, -0.1847, -0.1867, -0.0784,  0.1945,\n",
      "          0.1398,  0.1302],\n",
      "        [ 0.1028, -0.2361, -0.2322,  0.1284, -0.0470, -0.2316, -0.3003, -0.2268,\n",
      "          0.1149,  0.2518],\n",
      "        [-0.0769,  0.2120, -0.0327,  0.1255,  0.2611, -0.1765, -0.0635, -0.0458,\n",
      "         -0.2260, -0.1095],\n",
      "        [ 0.2922,  0.0380, -0.2611, -0.2926, -0.2351,  0.1214, -0.1248,  0.1932,\n",
      "          0.3134, -0.1954],\n",
      "        [ 0.0876, -0.0579, -0.1974,  0.0696, -0.1192,  0.0449,  0.3061, -0.1850,\n",
      "         -0.0110, -0.1893],\n",
      "        [-0.2294,  0.3020, -0.0307, -0.1232,  0.2172, -0.1096, -0.0391,  0.2907,\n",
      "         -0.1212,  0.2096],\n",
      "        [-0.2591, -0.1027, -0.2685,  0.0330,  0.1347, -0.2245,  0.0876, -0.2636,\n",
      "         -0.0854, -0.2042],\n",
      "        [ 0.2457, -0.2076, -0.1704,  0.2685, -0.0470,  0.2254,  0.0489, -0.0821,\n",
      "         -0.0966, -0.0764],\n",
      "        [ 0.1375,  0.0625,  0.2415, -0.2260, -0.2409,  0.1711,  0.2301, -0.0593,\n",
      "         -0.2395, -0.1264],\n",
      "        [-0.0761,  0.0059,  0.0903,  0.1069, -0.0961, -0.2648,  0.0870, -0.2584,\n",
      "         -0.0757, -0.1804],\n",
      "        [ 0.0401,  0.2684, -0.0576, -0.2786,  0.3113,  0.0559,  0.1979, -0.0668,\n",
      "          0.1242,  0.2733],\n",
      "        [ 0.0219,  0.2296,  0.0371,  0.2176, -0.0249, -0.1616, -0.3055,  0.2131,\n",
      "         -0.1921, -0.0031],\n",
      "        [-0.2101,  0.1116,  0.3108, -0.1107, -0.1157,  0.2926,  0.0979, -0.0532,\n",
      "         -0.1745,  0.2362],\n",
      "        [ 0.3103,  0.2622,  0.2273, -0.2558,  0.2046, -0.2325, -0.0751, -0.1318,\n",
      "         -0.1556,  0.3112],\n",
      "        [ 0.0765,  0.0455, -0.2495, -0.2056,  0.1368, -0.2083, -0.1117,  0.0697,\n",
      "         -0.1928,  0.2794],\n",
      "        [-0.1012, -0.0038,  0.1827, -0.2432,  0.3023,  0.1755,  0.1709,  0.2874,\n",
      "          0.2300,  0.1777],\n",
      "        [ 0.3146,  0.1749, -0.1018, -0.2249,  0.0907,  0.1616,  0.2208, -0.1993,\n",
      "          0.2563,  0.3053],\n",
      "        [-0.3043,  0.1611, -0.2121, -0.2410, -0.1161,  0.2896, -0.1206, -0.2467,\n",
      "         -0.1861, -0.2062]])\n",
      "hiddenlayer2.bias \t tensor([ 0.3119, -0.3018,  0.2701, -0.1548,  0.1231, -0.1833,  0.0721, -0.0240,\n",
      "        -0.2730, -0.0751, -0.2196,  0.0007, -0.1393, -0.2436, -0.0007, -0.0533,\n",
      "         0.1415,  0.1189])\n",
      "hiddenlayer3.weight \t tensor([[ 0.0107,  0.1853,  0.1313,  0.1539,  0.2327, -0.0552, -0.0680, -0.0737,\n",
      "         -0.1000,  0.0701, -0.0353, -0.0788,  0.0787, -0.2115, -0.0878,  0.0035,\n",
      "         -0.1467,  0.0031],\n",
      "        [-0.0679,  0.1426, -0.0168,  0.1917,  0.2204,  0.2130,  0.0594, -0.1926,\n",
      "         -0.1768, -0.1463,  0.0474,  0.0734,  0.2306,  0.0366,  0.1559,  0.1833,\n",
      "          0.0455,  0.1863],\n",
      "        [-0.0267, -0.2193,  0.1818,  0.1726, -0.0875, -0.0030, -0.0815, -0.1835,\n",
      "          0.0711,  0.0449, -0.0738,  0.0719,  0.0980,  0.0651, -0.2055,  0.0821,\n",
      "          0.0983,  0.0050],\n",
      "        [ 0.1572,  0.1725,  0.0417, -0.0170, -0.2038,  0.1223,  0.1421, -0.0523,\n",
      "          0.0694, -0.0376,  0.1146, -0.1748, -0.0377, -0.1069, -0.1528, -0.1328,\n",
      "          0.0770, -0.0635],\n",
      "        [ 0.0044, -0.1592, -0.0314,  0.0694, -0.1570,  0.0319, -0.0263,  0.0292,\n",
      "         -0.0427, -0.0363, -0.1291,  0.1395,  0.0731, -0.2247,  0.1235,  0.1871,\n",
      "         -0.1894, -0.1033],\n",
      "        [-0.0964, -0.0585, -0.2068,  0.1518, -0.1774, -0.1878,  0.1640,  0.0753,\n",
      "         -0.1976,  0.1282, -0.1044,  0.1434,  0.0195,  0.2173,  0.1471,  0.1295,\n",
      "          0.0645, -0.0415],\n",
      "        [ 0.2195,  0.0303,  0.1246,  0.0724,  0.2075, -0.1075,  0.1124, -0.0136,\n",
      "          0.0731, -0.0306,  0.2352,  0.2059, -0.0920,  0.1404, -0.2221, -0.0652,\n",
      "          0.0356, -0.0447],\n",
      "        [ 0.1155, -0.1989, -0.0826,  0.2349,  0.1742,  0.1914,  0.1602,  0.1988,\n",
      "         -0.1757,  0.0930, -0.1131,  0.0745, -0.1270,  0.0480,  0.0792,  0.1002,\n",
      "         -0.0978, -0.1641],\n",
      "        [ 0.2013, -0.1903, -0.1384, -0.1992, -0.1125,  0.0777, -0.0229, -0.1904,\n",
      "         -0.1103, -0.1292, -0.0786,  0.2007,  0.1640, -0.2163,  0.1279,  0.0190,\n",
      "          0.2267, -0.1917],\n",
      "        [-0.2336, -0.1259, -0.1876,  0.1872,  0.0914, -0.0277,  0.0757,  0.1515,\n",
      "         -0.1764, -0.1032, -0.1056,  0.0854,  0.0312, -0.0715,  0.1583,  0.1685,\n",
      "          0.2331, -0.2316],\n",
      "        [ 0.0626,  0.0336, -0.0118, -0.1393,  0.1721, -0.0119, -0.1842, -0.0182,\n",
      "          0.0382, -0.1238,  0.2326,  0.0064,  0.0514,  0.2335, -0.2203, -0.1860,\n",
      "         -0.1333,  0.0526],\n",
      "        [ 0.1153,  0.0584, -0.0843, -0.1345, -0.1015, -0.1988, -0.1694, -0.1367,\n",
      "         -0.1049, -0.0254, -0.2081,  0.0349, -0.0600, -0.2222,  0.0495, -0.1288,\n",
      "          0.0671, -0.0376],\n",
      "        [ 0.0059, -0.1300,  0.1711, -0.1179,  0.1796,  0.0932, -0.1322, -0.1894,\n",
      "         -0.0010, -0.0341,  0.2347,  0.1033,  0.0272, -0.1439, -0.2070, -0.1088,\n",
      "          0.0555,  0.0926],\n",
      "        [ 0.1481, -0.1134,  0.1194, -0.0483,  0.0769,  0.0738,  0.1298, -0.1235,\n",
      "         -0.1469, -0.1253, -0.1387,  0.1072,  0.1823,  0.0993,  0.1060, -0.0394,\n",
      "         -0.1948,  0.0032],\n",
      "        [ 0.1103,  0.1932,  0.0011,  0.2224,  0.2242, -0.2326, -0.1572,  0.1447,\n",
      "          0.0827, -0.0871,  0.0771,  0.1404, -0.1550, -0.0241,  0.1723, -0.0375,\n",
      "         -0.1111,  0.1938]])\n",
      "hiddenlayer3.bias \t tensor([-0.1406,  0.0931, -0.0110,  0.0594,  0.2082, -0.1869, -0.2181,  0.0815,\n",
      "        -0.1930, -0.0549, -0.2294, -0.1073, -0.1926,  0.1577,  0.0722])\n",
      "hiddenlayer4.weight \t tensor([[ 0.2398,  0.0983,  0.2360, -0.1452,  0.2379, -0.0513,  0.1537, -0.1033,\n",
      "          0.1177,  0.2357,  0.1377,  0.0197, -0.2456,  0.1076,  0.0488],\n",
      "        [ 0.0314,  0.1148,  0.0447,  0.2109,  0.0169, -0.1114,  0.1002,  0.1114,\n",
      "          0.1926,  0.1936, -0.1375, -0.1274,  0.0254,  0.1700,  0.0882],\n",
      "        [ 0.2244, -0.1448,  0.0550,  0.1284,  0.2378,  0.1931, -0.1452,  0.0383,\n",
      "          0.1575, -0.2566, -0.0024,  0.1894, -0.0787, -0.1161, -0.1579],\n",
      "        [ 0.0413,  0.0330,  0.0128, -0.2036,  0.0835,  0.0174, -0.2155,  0.1090,\n",
      "          0.1905,  0.2443,  0.1375,  0.1915,  0.0123, -0.2177,  0.0542]])\n",
      "hiddenlayer4.bias \t tensor([ 0.2450,  0.2581, -0.0544, -0.1374])\n",
      "output.weight \t tensor([[-0.4156, -0.2788,  0.3550,  0.2898]])\n",
      "output.bias \t tensor([-0.2757])\n"
     ]
    }
   ],
   "source": [
    "#Function for model 2\n",
    "class Model2(nn.Module):\n",
    "    def __init__(self,):\n",
    "        super().__init__()\n",
    "        # hidden layers\n",
    "        self.hiddenlayer1 = nn.Linear(1, 10)   \n",
    "        self.hiddenlayer2 = nn.Linear(10, 18)\n",
    "        self.hiddenlayer3 = nn.Linear(18, 15)\n",
    "        self.hiddenlayer4 = nn.Linear(15, 4)\n",
    "        # output layer\n",
    "        self.output = nn.Linear(4, 1)   \n",
    "\n",
    "        # activation functions for hidden layers\n",
    "    def forward(self, x):\n",
    "        x = F.relu(self.hiddenlayer1(x))      \n",
    "        x = F.relu(self.hiddenlayer2(x))\n",
    "        x = F.relu(self.hiddenlayer3(x))\n",
    "        x = F.relu(self.hiddenlayer4(x))\n",
    "        x = self.output(x)            \n",
    "        return x     \n",
    "        \n",
    "\n",
    "        \n",
    "#defining the model\n",
    "model2 = Model2()\n",
    "\n",
    "optimizer = torch.optim.Adam(model2.parameters(), lr=0.005, weight_decay = 0.00015)\n",
    "#finding Mean Squared Error Loss\n",
    "loss_function = torch.nn.MSELoss()  \n",
    "\n",
    "summation=[]\n",
    "\n",
    "for j in model2.parameters():\n",
    "    summation.append(torch.numel(j))\n",
    "    \n",
    "print('Number of parameters in Model 2:', np.sum(summation),)\n",
    "\n",
    "#Getting weights & bias\n",
    "print(\"\\nModel 2 weight and bias before training\\n\")\n",
    "\n",
    "for param in model2.state_dict():\n",
    "    print(param, \"\\t\",model2.state_dict()[param])"
   ]
  },
  {
   "cell_type": "code",
   "execution_count": 275,
   "id": "a4b51ab5",
   "metadata": {},
   "outputs": [
    {
     "name": "stdout",
     "output_type": "stream",
     "text": [
      "epoch: 100, loss = 0.0825\n",
      "epoch: 200, loss = 0.0061\n",
      "epoch: 300, loss = 0.0048\n",
      "epoch: 400, loss = 0.0045\n",
      "epoch: 500, loss = 0.0040\n",
      "epoch: 600, loss = 0.0036\n",
      "epoch: 700, loss = 0.0034\n",
      "epoch: 800, loss = 0.0033\n",
      "epoch: 900, loss = 0.0032\n",
      "epoch: 1000, loss = 0.0031\n",
      "epoch: 1100, loss = 0.0031\n",
      "epoch: 1200, loss = 0.0031\n",
      "epoch: 1300, loss = 0.0016\n",
      "epoch: 1400, loss = 0.0013\n",
      "Converged: 0.0009171757\n"
     ]
    }
   ],
   "source": [
    "Model2epoch_array,Model2loss_array,Model2prediction = testing(model2,x,y)"
   ]
  },
  {
   "cell_type": "code",
   "execution_count": 276,
   "id": "51b4cff8",
   "metadata": {},
   "outputs": [
    {
     "data": {
      "image/png": "[encoded data removed]",
      "text/plain": [
       "<Figure size 432x288 with 1 Axes>"
      ]
     },
     "metadata": {
      "needs_background": "light"
     },
     "output_type": "display_data"
    }
   ],
   "source": [
    "#error vs epoch plot\n",
    "plt.plot(Model2epoch_array, Model2loss_array)\n",
    "plt.title('Model 2 Loss vs Epoch')\n",
    "plt.show()"
   ]
  },
  {
   "cell_type": "code",
   "execution_count": 277,
   "id": "90a1ca66",
   "metadata": {},
   "outputs": [
    {
     "data": {
      "image/png": "[encoded data removed]",
      "text/plain": [
       "<Figure size 432x288 with 1 Axes>"
      ]
     },
     "metadata": {
      "needs_background": "light"
     },
     "output_type": "display_data"
    }
   ],
   "source": [
    "#Comparing the result with the actual plot\n",
    "\n",
    "#ploting the actual graph of the function\n",
    "plt.plot(x.numpy(),y.numpy(),color=\"red\")\n",
    "#ploting the prediction graph\n",
    "plt.plot(x,Model2prediction.data.numpy(),color=\"blue\")\n",
    "plt.title('Model Prediction 2 for comparsion with actual graph')\n",
    "plt.show()"
   ]
  },
  {
   "cell_type": "code",
   "execution_count": 278,
   "id": "9da59e4c",
   "metadata": {},
   "outputs": [
    {
     "name": "stdout",
     "output_type": "stream",
     "text": [
      "Number of parameters in Model 3: 571\n",
      "Model 3 weight and bias before training\n",
      "hiddenlayer.weight \t tensor([[ 8.4019e-01],\n",
      "        [-9.3115e-01],\n",
      "        [-3.7446e-01],\n",
      "        [-3.7348e-02],\n",
      "        [ 2.4369e-01],\n",
      "        [ 3.2610e-01],\n",
      "        [-7.5737e-01],\n",
      "        [ 5.7813e-01],\n",
      "        [-5.4813e-01],\n",
      "        [-6.8568e-02],\n",
      "        [-3.2296e-01],\n",
      "        [-8.5623e-02],\n",
      "        [ 1.4672e-01],\n",
      "        [ 6.5566e-01],\n",
      "        [-6.0714e-01],\n",
      "        [-6.5793e-02],\n",
      "        [-9.9547e-01],\n",
      "        [-6.4764e-01],\n",
      "        [ 3.5587e-01],\n",
      "        [ 5.3344e-01],\n",
      "        [-6.1597e-01],\n",
      "        [ 4.7033e-02],\n",
      "        [ 3.3197e-01],\n",
      "        [-6.8984e-01],\n",
      "        [ 6.8081e-02],\n",
      "        [-2.3525e-01],\n",
      "        [-2.9720e-01],\n",
      "        [ 8.8167e-04],\n",
      "        [-3.4530e-01],\n",
      "        [-9.9072e-01],\n",
      "        [ 5.1364e-01],\n",
      "        [ 6.4954e-01],\n",
      "        [ 7.3948e-01],\n",
      "        [-4.3788e-01],\n",
      "        [-7.1899e-01],\n",
      "        [ 2.6386e-01],\n",
      "        [-4.1007e-02],\n",
      "        [ 3.3569e-01],\n",
      "        [ 9.3385e-02],\n",
      "        [ 9.9023e-01],\n",
      "        [-7.7172e-01],\n",
      "        [ 1.4446e-02],\n",
      "        [-9.5881e-01],\n",
      "        [-3.3092e-01],\n",
      "        [-2.0770e-01],\n",
      "        [ 5.6711e-01],\n",
      "        [-2.0894e-02],\n",
      "        [-6.3718e-01],\n",
      "        [-7.9943e-01],\n",
      "        [ 1.4887e-01],\n",
      "        [-6.1086e-01],\n",
      "        [ 6.8369e-01],\n",
      "        [ 8.4674e-01],\n",
      "        [-4.2351e-01],\n",
      "        [ 9.3609e-02],\n",
      "        [ 4.9103e-01],\n",
      "        [-5.6523e-01],\n",
      "        [-6.9468e-01],\n",
      "        [-2.1008e-01],\n",
      "        [-2.8757e-01],\n",
      "        [-1.0002e-01],\n",
      "        [ 9.8704e-01],\n",
      "        [-2.9392e-01],\n",
      "        [-5.9418e-01],\n",
      "        [ 9.8253e-01],\n",
      "        [-6.1256e-01],\n",
      "        [ 4.0073e-01],\n",
      "        [-3.1702e-01],\n",
      "        [ 4.5585e-01],\n",
      "        [-5.4061e-01],\n",
      "        [-8.6511e-01],\n",
      "        [ 6.8986e-01],\n",
      "        [ 6.9972e-01],\n",
      "        [-3.0955e-01],\n",
      "        [-2.1174e-01],\n",
      "        [ 2.5884e-01],\n",
      "        [ 4.1918e-01],\n",
      "        [-1.1396e-01],\n",
      "        [-6.2838e-01],\n",
      "        [ 5.5128e-01],\n",
      "        [ 8.1009e-01],\n",
      "        [ 3.2883e-01],\n",
      "        [ 7.6571e-01],\n",
      "        [ 2.9765e-01],\n",
      "        [ 5.2890e-01],\n",
      "        [ 3.7291e-02],\n",
      "        [-6.1329e-01],\n",
      "        [ 4.3309e-01],\n",
      "        [-1.4635e-01],\n",
      "        [ 9.3485e-01],\n",
      "        [-8.8533e-01],\n",
      "        [-6.8118e-01],\n",
      "        [-3.1028e-01],\n",
      "        [-3.7585e-01],\n",
      "        [ 3.6022e-01],\n",
      "        [ 4.8717e-01],\n",
      "        [ 4.5551e-01],\n",
      "        [ 8.8838e-01],\n",
      "        [ 8.8446e-01],\n",
      "        [ 7.3441e-01],\n",
      "        [ 5.2719e-01],\n",
      "        [-8.7779e-01],\n",
      "        [-1.3027e-01],\n",
      "        [-6.0979e-01],\n",
      "        [-9.2595e-01],\n",
      "        [-3.5760e-01],\n",
      "        [-7.2707e-01],\n",
      "        [ 8.0033e-01],\n",
      "        [-6.3804e-01],\n",
      "        [ 1.3658e-01],\n",
      "        [-8.0223e-01],\n",
      "        [ 7.1174e-01],\n",
      "        [-8.3803e-01],\n",
      "        [ 9.0315e-02],\n",
      "        [-1.4185e-03],\n",
      "        [-1.5279e-01],\n",
      "        [-7.7963e-01],\n",
      "        [-7.9461e-01],\n",
      "        [ 8.6251e-01],\n",
      "        [ 5.5488e-01],\n",
      "        [ 3.4846e-01],\n",
      "        [ 1.7070e-01],\n",
      "        [-2.4795e-01],\n",
      "        [ 6.6504e-01],\n",
      "        [ 8.9613e-01],\n",
      "        [-4.8144e-01],\n",
      "        [-2.9043e-01],\n",
      "        [-2.3279e-01],\n",
      "        [ 6.7061e-01],\n",
      "        [ 1.0637e-01],\n",
      "        [ 7.2558e-01],\n",
      "        [ 9.2195e-02],\n",
      "        [ 3.5847e-01],\n",
      "        [-3.1537e-01],\n",
      "        [-3.1409e-01],\n",
      "        [ 8.2581e-01],\n",
      "        [-7.7079e-01],\n",
      "        [ 7.4353e-02],\n",
      "        [-4.5990e-01],\n",
      "        [-9.9788e-01],\n",
      "        [-7.5657e-01],\n",
      "        [ 4.6223e-01],\n",
      "        [-4.5234e-01],\n",
      "        [ 4.2805e-01],\n",
      "        [ 3.2133e-01],\n",
      "        [-5.7482e-01],\n",
      "        [-2.4899e-02],\n",
      "        [-6.7091e-01],\n",
      "        [ 6.9796e-01],\n",
      "        [-4.5683e-01],\n",
      "        [-9.1121e-01],\n",
      "        [-5.0913e-01],\n",
      "        [-2.0667e-01],\n",
      "        [ 2.1626e-01],\n",
      "        [-2.7753e-03],\n",
      "        [-1.6558e-01],\n",
      "        [-6.0873e-01],\n",
      "        [ 1.4043e-01],\n",
      "        [ 9.7744e-03],\n",
      "        [-5.4619e-01],\n",
      "        [-3.6095e-01],\n",
      "        [-2.9791e-01],\n",
      "        [ 6.1077e-01],\n",
      "        [-2.1747e-01],\n",
      "        [ 7.7505e-01],\n",
      "        [-6.1338e-01],\n",
      "        [ 7.2318e-01],\n",
      "        [ 8.2838e-02],\n",
      "        [-2.2578e-03],\n",
      "        [ 1.2973e-02],\n",
      "        [-1.5937e-01],\n",
      "        [ 6.4516e-01],\n",
      "        [ 2.0568e-02],\n",
      "        [ 8.1192e-01],\n",
      "        [-2.9335e-01],\n",
      "        [-6.6835e-01],\n",
      "        [ 2.7921e-01],\n",
      "        [-1.9516e-01],\n",
      "        [-4.7424e-01],\n",
      "        [-2.9993e-01],\n",
      "        [-6.6058e-01],\n",
      "        [ 7.5626e-01],\n",
      "        [-1.7649e-01],\n",
      "        [ 8.6705e-02],\n",
      "        [-2.2205e-01],\n",
      "        [-9.9173e-01],\n",
      "        [-5.2814e-01],\n",
      "        [ 9.1265e-01],\n",
      "        [ 2.3235e-01],\n",
      "        [ 2.2656e-02]])\n",
      "hiddenlayer.bias \t tensor([-0.6040, -0.5709, -0.9516, -0.8948,  0.3319, -0.2913,  0.2740,  0.7700,\n",
      "        -0.1549,  0.5185, -0.7262,  0.6287,  0.7427, -0.5713, -0.1965,  0.3558,\n",
      "        -0.6944, -0.8911, -0.8191,  0.2487, -0.3712, -0.4674, -0.8063,  0.0385,\n",
      "         0.5215,  0.0155, -0.8038, -0.8524,  0.8112, -0.8592,  0.9096, -0.9588,\n",
      "         0.4841, -0.2019, -0.5394,  0.9013, -0.1648, -0.6616, -0.0927,  0.1750,\n",
      "        -0.8178,  0.6264,  0.7342,  0.6335, -0.0177,  0.0920,  0.8077, -0.1332,\n",
      "         0.4390,  0.2745, -0.2549, -0.8853,  0.2678, -0.1567,  0.1931, -0.9202,\n",
      "         0.3828,  0.6995, -0.0041, -0.2128,  0.5029,  0.0628,  0.4549,  0.3365,\n",
      "        -0.9307,  0.6215, -0.1579,  0.2648, -0.1671, -0.7365, -0.2730,  0.9081,\n",
      "         0.1244, -0.6108, -0.6919,  0.8902,  0.1425, -0.2863,  0.9536, -0.6826,\n",
      "         0.3844, -0.5776, -0.7905, -0.7924, -0.1391,  0.3878,  0.8796, -0.4072,\n",
      "        -0.5961, -0.9914,  0.5091,  0.0738, -0.6408,  0.9795, -0.9242, -0.2769,\n",
      "        -0.2347,  0.7428, -0.4074,  0.8101, -0.8923,  0.8419,  0.1182,  0.8381,\n",
      "        -0.4316,  0.8396, -0.2577,  0.8420, -0.4849, -0.9467, -0.5936,  0.6783,\n",
      "        -0.2006,  0.4321,  0.2870,  0.5364, -0.6136, -0.3783, -0.0868,  0.4038,\n",
      "         0.2635,  0.4562,  0.0782, -0.6740, -0.9518, -0.4155,  0.3660, -0.8668,\n",
      "         0.3806, -0.0450, -0.8480, -0.5638, -0.4076,  0.7850, -0.1431, -0.1576,\n",
      "        -0.0441, -0.6320,  0.6709, -0.3287, -0.5409, -0.8668, -0.9827, -0.6770,\n",
      "         0.9580,  0.1994, -0.4879, -0.7773, -0.9164, -0.6953, -0.4642,  0.2328,\n",
      "        -0.4152,  0.2171,  0.8623, -0.4354,  0.8383,  0.9185,  0.2683, -0.3038,\n",
      "        -0.1146,  0.3340,  0.3272, -0.9790,  0.6401,  0.4623, -0.2850, -0.3716,\n",
      "         0.2534,  0.6786,  0.1651, -0.8888,  0.5442, -0.9929,  0.0557, -0.6667,\n",
      "        -0.4973, -0.4564, -0.1409, -0.9624, -0.3869, -0.3629,  0.1568,  0.1436,\n",
      "        -0.6656,  0.7287, -0.8096, -0.5838, -0.5467, -0.8441])\n",
      "output.weight \t tensor([[-0.0708,  0.0161, -0.0326, -0.0173,  0.0358,  0.0556, -0.0154, -0.0500,\n",
      "         -0.0095, -0.0105,  0.0549, -0.0191,  0.0018,  0.0139, -0.0397,  0.0704,\n",
      "          0.0420, -0.0403, -0.0716,  0.0250, -0.0567, -0.0541, -0.0626, -0.0676,\n",
      "          0.0260, -0.0695, -0.0556, -0.0391, -0.0016,  0.0503, -0.0011, -0.0236,\n",
      "          0.0561,  0.0247, -0.0059, -0.0566,  0.0690,  0.0461, -0.0106,  0.0024,\n",
      "         -0.0166,  0.0309,  0.0684,  0.0372,  0.0008,  0.0252,  0.0260, -0.0534,\n",
      "         -0.0269, -0.0439, -0.0538, -0.0234,  0.0311, -0.0645, -0.0693, -0.0478,\n",
      "         -0.0505,  0.0411,  0.0219,  0.0180,  0.0399, -0.0476,  0.0400,  0.0707,\n",
      "         -0.0219, -0.0500,  0.0705,  0.0305,  0.0704,  0.0113, -0.0462,  0.0590,\n",
      "          0.0391,  0.0384,  0.0464,  0.0405,  0.0027, -0.0104,  0.0583,  0.0480,\n",
      "         -0.0037, -0.0325,  0.0692,  0.0453,  0.0258,  0.0649, -0.0502, -0.0116,\n",
      "          0.0022, -0.0193,  0.0493, -0.0216, -0.0013, -0.0545,  0.0177,  0.0659,\n",
      "         -0.0075, -0.0080,  0.0153, -0.0616, -0.0389,  0.0305,  0.0497,  0.0695,\n",
      "         -0.0137,  0.0607, -0.0496, -0.0474,  0.0179,  0.0498,  0.0585,  0.0494,\n",
      "         -0.0569, -0.0645,  0.0696, -0.0629,  0.0715,  0.0297,  0.0718,  0.0660,\n",
      "         -0.0088, -0.0333,  0.0633,  0.0425,  0.0504,  0.0617,  0.0431, -0.0654,\n",
      "          0.0389,  0.0198, -0.0179, -0.0362, -0.0184,  0.0630,  0.0625, -0.0547,\n",
      "         -0.0156, -0.0628, -0.0179,  0.0048, -0.0236,  0.0540,  0.0109,  0.0661,\n",
      "         -0.0589, -0.0141,  0.0017,  0.0487,  0.0445,  0.0566, -0.0101, -0.0456,\n",
      "         -0.0396, -0.0398,  0.0080, -0.0094,  0.0551, -0.0582, -0.0459, -0.0508,\n",
      "         -0.0161,  0.0577, -0.0350,  0.0522,  0.0148,  0.0623, -0.0665, -0.0441,\n",
      "          0.0563,  0.0546,  0.0553, -0.0578,  0.0239, -0.0351,  0.0130,  0.0254,\n",
      "          0.0062,  0.0568, -0.0399,  0.0103, -0.0143, -0.0492, -0.0333, -0.0183,\n",
      "         -0.0364,  0.0713,  0.0578, -0.0069, -0.0455, -0.0218]])\n",
      "output.bias \t tensor([-0.0647])\n"
     ]
    }
   ],
   "source": [
    "#Function for model 3\n",
    "class Model3(nn.Module):\n",
    "    def __init__(self,):\n",
    "        super().__init__()\n",
    "        # hidden layers\n",
    "        self.hiddenlayer = nn.Linear(1, 190)   \n",
    "\n",
    "        # output layer\n",
    "        self.output = nn.Linear(190, 1)   \n",
    "\n",
    "        # activation functions for hidden layers\n",
    "    def forward(self, x):\n",
    "        x = F.relu(self.hiddenlayer(x))      \n",
    "        x = self.output(x)            \n",
    "        return x     \n",
    "        \n",
    "\n",
    "#defining the model\n",
    "model3 = Model3()\n",
    "\n",
    "optimizer = torch.optim.Adam(model3.parameters(), lr=0.001, weight_decay = 0.0001)\n",
    "\n",
    "#finding Mean Squared Error Loss\n",
    "loss_function = torch.nn.MSELoss()  \n",
    "\n",
    "summation=[]\n",
    "\n",
    "for j in model3.parameters():\n",
    "    summation.append(torch.numel(j))\n",
    "    \n",
    "print('Number of parameters in Model 3:', np.sum(summation),)\n",
    "\n",
    "#Getting weights & bias\n",
    "print(\"Model 3 weight and bias before training\")\n",
    "\n",
    "for param in model3.state_dict():\n",
    "    print(param, \"\\t\",model3.state_dict()[param])"
   ]
  },
  {
   "cell_type": "code",
   "execution_count": 279,
   "id": "6761d86d",
   "metadata": {},
   "outputs": [
    {
     "name": "stdout",
     "output_type": "stream",
     "text": [
      "epoch: 100, loss = 0.0646\n",
      "epoch: 200, loss = 0.0499\n",
      "epoch: 300, loss = 0.0367\n",
      "epoch: 400, loss = 0.0266\n",
      "epoch: 500, loss = 0.0186\n",
      "epoch: 600, loss = 0.0131\n",
      "epoch: 700, loss = 0.0096\n",
      "epoch: 800, loss = 0.0071\n",
      "epoch: 900, loss = 0.0054\n",
      "epoch: 1000, loss = 0.0042\n",
      "epoch: 1100, loss = 0.0035\n",
      "epoch: 1200, loss = 0.0029\n",
      "epoch: 1300, loss = 0.0024\n",
      "epoch: 1400, loss = 0.0021\n",
      "epoch: 1500, loss = 0.0019\n",
      "epoch: 1600, loss = 0.0017\n",
      "epoch: 1700, loss = 0.0015\n",
      "epoch: 1800, loss = 0.0014\n",
      "epoch: 1900, loss = 0.0012\n",
      "epoch: 2000, loss = 0.0012\n",
      "epoch: 2100, loss = 0.0011\n",
      "epoch: 2200, loss = 0.0010\n",
      "Converged: 0.0009994764\n"
     ]
    }
   ],
   "source": [
    "Model3epoch_array,Model3loss_array,Model3prediction = testing(model3,x,y)"
   ]
  },
  {
   "cell_type": "code",
   "execution_count": 280,
   "id": "83c377ee",
   "metadata": {},
   "outputs": [
    {
     "data": {
      "image/png": "[encoded data removed]",
      "text/plain": [
       "<Figure size 432x288 with 1 Axes>"
      ]
     },
     "metadata": {
      "needs_background": "light"
     },
     "output_type": "display_data"
    }
   ],
   "source": [
    "#error vs epoch plot\n",
    "plt.plot(Model3epoch_array, Model3loss_array)\n",
    "plt.title('Model 3 Loss vs Epoch')\n",
    "plt.show()"
   ]
  },
  {
   "cell_type": "code",
   "execution_count": 281,
   "id": "957cd56f",
   "metadata": {},
   "outputs": [
    {
     "data": {
      "image/png": "[encoded data removed]",
      "text/plain": [
       "<Figure size 432x288 with 1 Axes>"
      ]
     },
     "metadata": {
      "needs_background": "light"
     },
     "output_type": "display_data"
    }
   ],
   "source": [
    "#Comparing the result with the actual plot\n",
    "\n",
    "#ploting the actual graph of the function\n",
    "plt.plot(x.numpy(),y.numpy(),color=\"red\")\n",
    "#ploting the prediction graph\n",
    "plt.plot(x,Model3prediction.data.numpy(),color=\"blue\")\n",
    "plt.title('Model Prediction 3 for comparsion with actual graph')\n",
    "plt.show()"
   ]
  },
  {
   "cell_type": "code",
   "execution_count": 282,
   "id": "7e599f14",
   "metadata": {},
   "outputs": [
    {
     "data": {
      "image/png": "[encoded data removed]",
      "text/plain": [
       "<Figure size 432x288 with 1 Axes>"
      ]
     },
     "metadata": {
      "needs_background": "light"
     },
     "output_type": "display_data"
    }
   ],
   "source": [
    "#Plotting the loss functions vs epochs\n",
    "\n",
    "plt.plot(Model1epoch_array,Model1loss_array, color = \"green\")\n",
    "plt.plot(Model2epoch_array,Model2loss_array, color = \"blue\")\n",
    "plt.plot(Model3epoch_array,Model3loss_array, color = \"orange\")\n",
    "plt.title('Model Loss')\n",
    "plt.legend(['Model1', 'Model2','Model3'])\n",
    "plt.xlabel('Epoch')\n",
    "plt.ylabel('Loss')\n",
    "plt.savefig('lossepoch.png')\n",
    "plt.show()\n"
   ]
  },
  {
   "cell_type": "code",
   "execution_count": 283,
   "id": "82896229",
   "metadata": {},
   "outputs": [
    {
     "data": {
      "image/png": "[encoded data removed]",
      "text/plain": [
       "<Figure size 432x288 with 1 Axes>"
      ]
     },
     "metadata": {
      "needs_background": "light"
     },
     "output_type": "display_data"
    }
   ],
   "source": [
    "#Plotting the prediction\n",
    "\n",
    "#ploting the actual graph of the function\n",
    "plt.plot(x.numpy(),y.numpy(),color=\"red\")\n",
    "#ploting the prediction graphs\n",
    "plt.plot(x,Model1prediction.data.numpy(),color=\"blue\")\n",
    "plt.plot(x,Model2prediction.data.numpy(),color=\"green\")\n",
    "plt.plot(x,Model3prediction.data.numpy(),color=\"orange\")\n",
    "plt.title('Predicted graphs')\n",
    "plt.legend(['Actual Graph', 'Model1', 'Model2','Model3'])\n",
    "plt.savefig('Predicted Graphs.png')\n",
    "plt.show()"
   ]
  },
  {
   "cell_type": "code",
   "execution_count": 284,
   "id": "d3b775f3",
   "metadata": {},
   "outputs": [],
   "source": [
    "####################################End of function 1#########################################"
   ]
  }
 ],
 "metadata": {
  "kernelspec": {
   "display_name": "Python 3 (ipykernel)",
   "language": "python",
   "name": "python3"
  },
  "language_info": {
   "codemirror_mode": {
    "name": "ipython",
    "version": 3
   },
   "file_extension": ".py",
   "mimetype": "text/x-python",
   "name": "python",
   "nbconvert_exporter": "python",
   "pygments_lexer": "ipython3",
   "version": "3.9.7"
  }
 },
 "nbformat": 4,
 "nbformat_minor": 5
}
